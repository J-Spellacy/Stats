{
  "nbformat": 4,
  "nbformat_minor": 0,
  "metadata": {
    "colab": {
      "provenance": []
    },
    "kernelspec": {
      "name": "python3",
      "display_name": "Python 3"
    },
    "language_info": {
      "name": "python"
    }
  },
  "cells": [
    {
      "cell_type": "code",
      "execution_count": 3,
      "metadata": {
        "id": "exvAcEpND0q7"
      },
      "outputs": [],
      "source": [
        "import numpy as np\n",
        "import pandas as pd\n",
        "import matplotlib.pyplot as plt\n",
        "import random\n",
        "from scipy.interpolate import griddata"
      ]
    },
    {
      "cell_type": "code",
      "source": [
        "def K_neighbor(y, Y, k=10):\n",
        "    if y < round(k/2):\n",
        "        Y_sample = Y[0:k]\n",
        "    elif y+round(k/2) > len(Y):\n",
        "        Y_sample = Y[-k:]\n",
        "    else:\n",
        "        Y_sample = Y[y-(round(k/2)):y+(round(k/2))]\n",
        "    # print(f'{x}  {X[x]}')\n",
        "    # print(X_sample)\n",
        "\n",
        "    return Y_sample"
      ],
      "metadata": {
        "id": "0ShaNvq3fQ9H"
      },
      "execution_count": 7,
      "outputs": []
    },
    {
      "cell_type": "code",
      "source": [
        "def expected_val_func(X, Y, k):\n",
        "    Y_expected = np.zeros_like(X)\n",
        "    for i in range(len(X)):\n",
        "        Y_expected[i] = np.mean(K_neighbor(i, Y, k))\n",
        "\n",
        "    return Y_expected, k"
      ],
      "metadata": {
        "id": "Uy2y4LmJjZWP"
      },
      "execution_count": 2,
      "outputs": []
    },
    {
      "cell_type": "code",
      "source": [
        "def plot_overlayed(X, Y, Y_expected, Y_hat, k):\n",
        "    # create a scatter plot of X and Y and then add line graph of expected_val_func(X, Y)\n",
        "    plt.figure(figsize=(10, 6))\n",
        "    plt.xlim(0, 100)\n",
        "    plt.ylim(0, 100)\n",
        "    plt.xlabel('X-axis')\n",
        "    plt.ylabel('Y-axis')\n",
        "    plt.title('Scatter Plot and Linear Regression Line')\n",
        "\n",
        "    # Add a scatter plot\n",
        "    plt.scatter(X, Y, color='blue', label='Data Points')\n",
        "\n",
        "    # Add a line graph with the same x but different y values\n",
        "    plt.plot(X, Y_hat, color='red', label='Linear Regression Line')\n",
        "    plt.plot(X, Y_expected, color='red', label=f'K-nearest-neighbor Regression Line k={k}')\n",
        "    # Add a legend\n",
        "    plt.legend()\n",
        "\n",
        "    # Show the plot\n",
        "    plt.show()"
      ],
      "metadata": {
        "id": "zRmI6bf4jhdv"
      },
      "execution_count": 9,
      "outputs": []
    },
    {
      "cell_type": "code",
      "source": [
        "# SORTING THE Ys AND Xs\n",
        "\n",
        "# Step 1: Split X into two feature lists\n",
        "x1 = X[0].tolist()\n",
        "x2 = X[1].tolist()\n",
        "y = Y.tolist()\n",
        "y_hat = Y_hat.tolist()\n",
        "\n",
        "# Step 2: Zip them together to keep association\n",
        "combined = list(zip(x1, x2, y, y_hat))\n",
        "\n",
        "# Step 3: Sort them (e.g., by x1)\n",
        "combined_sorted = sorted(combined, key=lambda t : t[0])\n",
        "\n",
        "# Step 4: Unzip back to separate lists\n",
        "x1_sorted, x2_sorted, y_sorted, y_hat_sorted = zip(*combined_sorted)"
      ],
      "metadata": {
        "id": "lSR_Ah6NIGHJ"
      },
      "execution_count": 76,
      "outputs": []
    },
    {
      "cell_type": "code",
      "source": [
        "def beta_estimate_demonstration(X, Y, num_points = 100):\n",
        "    beta_1_estimates = np.linspace(start = -100, stop = 100, num = num_points, endpoint = True)\n",
        "    beta_0_estimates = np.linspace(start = -100, stop = 100, num = num_points, endpoint = True)\n",
        "    RSS = np.zeros((100, 100))\n",
        "    Y_hat = np.zeros_like(beta_0_estimates)\n",
        "    for i in range(num_points):\n",
        "        for j in range(num_points):\n",
        "            Y_hat = beta_0_estimates[j] + beta_1_estimates[i]*X\n",
        "            RSS[i, j] += np.sum((Y-Y_hat)**2)\n",
        "\n",
        "    beta_grid = np.meshgrid(beta_0_estimates, beta_1_estimates)\n",
        "    return RSS, beta_grid"
      ],
      "metadata": {
        "id": "2OvwQn8ekPyv"
      },
      "execution_count": 4,
      "outputs": []
    },
    {
      "cell_type": "code",
      "source": [
        "def MSE(Y_hat, Y):\n",
        "  mse = 0\n",
        "  for y_h, y in zip(Y_hat, Y):\n",
        "    mse += (y - y_h)**2\n",
        "  return mse*1/len(Y)"
      ],
      "metadata": {
        "id": "p3V_nzJb4X3y"
      },
      "execution_count": 60,
      "outputs": []
    },
    {
      "cell_type": "code",
      "source": [
        "class Linear_model:\n",
        "  def __init__(self):\n",
        "    pass\n",
        "\n",
        "  # X of shape (n, m) with m observations, Y with shape (m)\n",
        "  def linear_regression_train(self, X_batch, Y_batch):\n",
        "    y_bar = np.mean(Y_batch)\n",
        "    X_bar = np.zeros(X_batch.shape[0]) # shape(n)\n",
        "    self.Beta = np.zeros_like(X_bar)\n",
        "    # caculating beta_1 and beta_0\n",
        "    for n in range(X_batch.shape[0]):\n",
        "      B1_numerator, B1_denominator = 0, 0\n",
        "      x_bar = np.mean(X_batch[n, :])\n",
        "      for m in range(X_batch.shape[1]):\n",
        "          B1_numerator  += (X_batch[n][m] - x_bar)*(Y_batch[m] - y_bar)\n",
        "          B1_denominator += (X_batch[n][m] - x_bar)**2\n",
        "      self.Beta[n] = B1_numerator / B1_denominator\n",
        "      X_bar[n] = x_bar\n",
        "    self.beta_hat_0 = y_bar - np.dot(self.Beta,X_bar)\n",
        "    # make predictions and print residual sum of squares\n",
        "\n",
        "  def prediction(self, X, Y):\n",
        "    Y_hat = np.zeros_like(Y)\n",
        "    res_sum_sq = 0\n",
        "    for i in range(Y.shape[0]):\n",
        "      Y_hat[i] = self.beta_hat_0 + np.dot(X[:, i].T, self.Beta)\n",
        "    for i in range(Y.shape[0]):\n",
        "      res_sum_sq += (Y[i] - Y_hat[i])**2\n",
        "    print(f'Final Residual Sum of Squares: {res_sum_sq}')\n",
        "    return Y_hat"
      ],
      "metadata": {
        "id": "UEOYC5TskEFx"
      },
      "execution_count": 47,
      "outputs": []
    },
    {
      "cell_type": "code",
      "source": [
        "def test_train_split(X, Y, batch_size):\n",
        "  # X_batch = np.zeros((X.shape[0], batch_size))\n",
        "  # Y_batch = np.zeros(batch_size)\n",
        "  # for i in range(batch_size):\n",
        "\n",
        "  #   n = random.randint(0, X.shape[1]-1)\n",
        "  #   X_batch[:,i] = X[:,n]\n",
        "  #   Y_batch[i] = Y[n]\n",
        "  indices = np.random.choice(X.shape[1], batch_size, replace=False)\n",
        "  X_batch = X[:, indices]\n",
        "  Y_batch = Y[indices]\n",
        "  return X_batch, Y_batch"
      ],
      "metadata": {
        "id": "A-BbWe64l5Vq"
      },
      "execution_count": 32,
      "outputs": []
    },
    {
      "cell_type": "code",
      "source": [
        "X.shape"
      ],
      "metadata": {
        "colab": {
          "base_uri": "https://localhost:8080/"
        },
        "id": "AnCL9MEb80V_",
        "outputId": "2c890cab-8b05-43fe-df54-28e258f86fee"
      },
      "execution_count": 31,
      "outputs": [
        {
          "output_type": "execute_result",
          "data": {
            "text/plain": [
              "(1, 30)"
            ]
          },
          "metadata": {},
          "execution_count": 31
        }
      ]
    },
    {
      "cell_type": "code",
      "source": [
        "# generate Data\n",
        "m = 30 # total number of observations will be m^n\n",
        "n = 1\n",
        "std_noise = 0.1 # standard deviation of noise\n",
        "set_betas = np.array([2]) # secret betas not known by the model\n",
        "\n",
        "X_axes = []\n",
        "for dims in range(n):\n",
        "  X_axes.append(np.linspace(1,m,m))\n",
        "mesh = np.meshgrid(*X_axes, indexing='ij')\n",
        "X_axes = []\n",
        "for l in range(0,len(mesh)):\n",
        "  X_axes.append(mesh[l].flatten())\n",
        "X = np.stack(X_axes, axis=0)\n",
        "Y = np.zeros(X.shape[1])\n",
        "for obs in range(Y.shape[0]):\n",
        "  Y[obs] = np.dot(X[:,obs].T, set_betas) +(random.randint(-10,10)*std_noise)"
      ],
      "metadata": {
        "id": "l823QTnOG8-x"
      },
      "execution_count": 50,
      "outputs": []
    },
    {
      "cell_type": "code",
      "source": [
        "X_batch, Y_batch = test_train_split(X, Y, 30)"
      ],
      "metadata": {
        "id": "EheRQyq9x6_n"
      },
      "execution_count": 63,
      "outputs": []
    },
    {
      "cell_type": "code",
      "source": [
        "lr = Linear_model()\n",
        "lr.linear_regression_train(X_batch, Y_batch)"
      ],
      "metadata": {
        "id": "1XfYgHw110Xk"
      },
      "execution_count": 64,
      "outputs": []
    },
    {
      "cell_type": "code",
      "source": [
        "Y_hat = lr.prediction(X, Y)"
      ],
      "metadata": {
        "colab": {
          "base_uri": "https://localhost:8080/"
        },
        "id": "A1pJZBb4-04U",
        "outputId": "ef3cf81f-43ee-43e0-ae4e-a079df80fb85"
      },
      "execution_count": 65,
      "outputs": [
        {
          "output_type": "stream",
          "name": "stdout",
          "text": [
            "Final Residual Sum of Squares: 10.1642536151279\n"
          ]
        }
      ]
    },
    {
      "cell_type": "code",
      "source": [
        "print(MSE(Y, Y_hat))\n",
        "print(lr.Beta)"
      ],
      "metadata": {
        "colab": {
          "base_uri": "https://localhost:8080/"
        },
        "id": "SxtDiI6sb1qT",
        "outputId": "89a376af-9c96-43ae-fc9c-02399bebaf94"
      },
      "execution_count": 66,
      "outputs": [
        {
          "output_type": "stream",
          "name": "stdout",
          "text": [
            "0.33880845383759667\n",
            "[1.99681869]\n"
          ]
        }
      ]
    },
    {
      "cell_type": "code",
      "source": [
        "plt.figure(figsize=(10, 6))\n",
        "plt.xlabel('X-axis')\n",
        "plt.ylabel('Y-axis')\n",
        "plt.title('Scatter Plot and Linear Regression Line')\n",
        "\n",
        "# Add a line graph with the same x but different y values\n",
        "plt.scatter(X[0], Y, color='red', label='real values')\n",
        "plt.plot(X[0], Y_hat, color='blue', label='Linear Regression Line')\n",
        "\n",
        "# Add a legend\n",
        "plt.legend()\n",
        "\n",
        "# Show the plot\n",
        "plt.show()"
      ],
      "metadata": {
        "colab": {
          "base_uri": "https://localhost:8080/",
          "height": 564
        },
        "id": "Ga0jJ6hZA1Y3",
        "outputId": "208480ea-08d5-4b6d-ae62-40060e975ab7"
      },
      "execution_count": 58,
      "outputs": [
        {
          "output_type": "display_data",
          "data": {
            "text/plain": [
              "<Figure size 1000x600 with 1 Axes>"
            ],
            "image/png": "[encoded data removed]"
          },
          "metadata": {}
        }
      ]
    },
    {
      "cell_type": "code",
      "source": [
        "# Convert to arrays if they aren't already\n",
        "\n",
        "# Create grid\n",
        "grid_x1, grid_x2 = np.meshgrid(\n",
        "    np.linspace(X[0].min(), X[0].max(), 100),\n",
        "    np.linspace(X[1].min(), X[1].max(), 100)\n",
        ")\n",
        "\n",
        "# Interpolate Y to create a smooth surface\n",
        "grid_y = griddata((X[0], X[1]), Y, (grid_x1, grid_x2), method='cubic')\n",
        "\n",
        "# Plot\n",
        "fig = plt.figure(figsize=(10, 7))\n",
        "ax = fig.add_subplot(111, projection='3d')\n",
        "\n",
        "# # Plot true Y surface\n",
        "ax.plot_surface(grid_x1, grid_x2, grid_y, cmap='viridis', alpha=0.7, edgecolor='none')\n",
        "\n",
        "# Plot Y_hat as scatter points\n",
        "ax.scatter(X[0], X[1], Y_hat, color='red', label='Y_hat', s=10)\n",
        "# ax.scatter(x1, x2, y, color='blue', label='Y_hat', s=10)\n",
        "\n",
        "# Labels and title\n",
        "ax.set_title('True Surface with Y_hat Scatter')\n",
        "ax.set_xlabel('X1')\n",
        "ax.set_ylabel('X2')\n",
        "ax.set_zlabel('Y / Y_hat')\n",
        "ax.legend()\n",
        "\n",
        "plt.show()"
      ],
      "metadata": {
        "colab": {
          "base_uri": "https://localhost:8080/",
          "height": 211
        },
        "id": "MI_EzbujIQVR",
        "outputId": "51defde7-bcbd-41fb-e928-5c0e28019075"
      },
      "execution_count": 10,
      "outputs": [
        {
          "output_type": "error",
          "ename": "IndexError",
          "evalue": "index 1 is out of bounds for axis 0 with size 1",
          "traceback": [
            "\u001b[0;31m---------------------------------------------------------------------------\u001b[0m",
            "\u001b[0;31mIndexError\u001b[0m                                Traceback (most recent call last)",
            "\u001b[0;32m<ipython-input-10-7510f1c4ff33>\u001b[0m in \u001b[0;36m<cell line: 0>\u001b[0;34m()\u001b[0m\n\u001b[1;32m      4\u001b[0m grid_x1, grid_x2 = np.meshgrid(\n\u001b[1;32m      5\u001b[0m     \u001b[0mnp\u001b[0m\u001b[0;34m.\u001b[0m\u001b[0mlinspace\u001b[0m\u001b[0;34m(\u001b[0m\u001b[0mX\u001b[0m\u001b[0;34m[\u001b[0m\u001b[0;36m0\u001b[0m\u001b[0;34m]\u001b[0m\u001b[0;34m.\u001b[0m\u001b[0mmin\u001b[0m\u001b[0;34m(\u001b[0m\u001b[0;34m)\u001b[0m\u001b[0;34m,\u001b[0m \u001b[0mX\u001b[0m\u001b[0;34m[\u001b[0m\u001b[0;36m0\u001b[0m\u001b[0;34m]\u001b[0m\u001b[0;34m.\u001b[0m\u001b[0mmax\u001b[0m\u001b[0;34m(\u001b[0m\u001b[0;34m)\u001b[0m\u001b[0;34m,\u001b[0m \u001b[0;36m100\u001b[0m\u001b[0;34m)\u001b[0m\u001b[0;34m,\u001b[0m\u001b[0;34m\u001b[0m\u001b[0;34m\u001b[0m\u001b[0m\n\u001b[0;32m----> 6\u001b[0;31m     \u001b[0mnp\u001b[0m\u001b[0;34m.\u001b[0m\u001b[0mlinspace\u001b[0m\u001b[0;34m(\u001b[0m\u001b[0mX\u001b[0m\u001b[0;34m[\u001b[0m\u001b[0;36m1\u001b[0m\u001b[0;34m]\u001b[0m\u001b[0;34m.\u001b[0m\u001b[0mmin\u001b[0m\u001b[0;34m(\u001b[0m\u001b[0;34m)\u001b[0m\u001b[0;34m,\u001b[0m \u001b[0mX\u001b[0m\u001b[0;34m[\u001b[0m\u001b[0;36m1\u001b[0m\u001b[0;34m]\u001b[0m\u001b[0;34m.\u001b[0m\u001b[0mmax\u001b[0m\u001b[0;34m(\u001b[0m\u001b[0;34m)\u001b[0m\u001b[0;34m,\u001b[0m \u001b[0;36m100\u001b[0m\u001b[0;34m)\u001b[0m\u001b[0;34m\u001b[0m\u001b[0;34m\u001b[0m\u001b[0m\n\u001b[0m\u001b[1;32m      7\u001b[0m )\n\u001b[1;32m      8\u001b[0m \u001b[0;34m\u001b[0m\u001b[0m\n",
            "\u001b[0;31mIndexError\u001b[0m: index 1 is out of bounds for axis 0 with size 1"
          ]
        }
      ]
    }
  ]
}